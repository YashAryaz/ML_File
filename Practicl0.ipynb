{
 "cells": [
  {
   "cell_type": "markdown",
   "metadata": {},
   "source": [
    "# Write a Program in Python to compute the factorial of any given number."
   ]
  },
  {
   "cell_type": "code",
   "execution_count": 9,
   "metadata": {},
   "outputs": [
    {
     "name": "stdout",
     "output_type": "stream",
     "text": [
      "The factorial of 8 is 40320\n"
     ]
    }
   ],
   "source": [
    "def factorial(n):\n",
    "    if n == 0:\n",
    "        return 1\n",
    "    else:\n",
    "        return n * factorial(n - 1)\n",
    "\n",
    "num = 8\n",
    "if num < 0:\n",
    "    print(\"Factorial is not defined for negative numbers.\")\n",
    "else:\n",
    "    fact = factorial(num)\n",
    "    print(f\"The factorial of {num} is {fact}\")\n"
   ]
  },
  {
   "cell_type": "markdown",
   "metadata": {},
   "source": [
    "# Write a Program in Python to convert :"
   ]
  },
  {
   "cell_type": "markdown",
   "metadata": {},
   "source": [
    "## Binary to Decimal"
   ]
  },
  {
   "cell_type": "code",
   "execution_count": 11,
   "metadata": {},
   "outputs": [
    {
     "name": "stdout",
     "output_type": "stream",
     "text": [
      "The decimal equivalent is: 21\n"
     ]
    }
   ],
   "source": [
    "binary_str = '10101'\n",
    "decimal_num = int(binary_str, 2)\n",
    "print(f\"The decimal equivalent is: {decimal_num}\")\n"
   ]
  },
  {
   "cell_type": "markdown",
   "metadata": {},
   "source": [
    "## Decimal to Binary"
   ]
  },
  {
   "cell_type": "code",
   "execution_count": 12,
   "metadata": {},
   "outputs": [
    {
     "name": "stdout",
     "output_type": "stream",
     "text": [
      "The binary equivalent of 7 is 111\n"
     ]
    }
   ],
   "source": [
    "decimal = 7\n",
    "binary = bin(decimal)\n",
    "print(f\"The binary equivalent of {decimal} is {binary[2:]}\")\n"
   ]
  },
  {
   "cell_type": "markdown",
   "metadata": {},
   "source": [
    "## Decimal to Hexadecimal"
   ]
  },
  {
   "cell_type": "code",
   "execution_count": 18,
   "metadata": {},
   "outputs": [
    {
     "name": "stdout",
     "output_type": "stream",
     "text": [
      "The hexadecimal equivalent of 350 is 15e\n"
     ]
    }
   ],
   "source": [
    "decimal = 350\n",
    "hexadecimal = hex(decimal)\n",
    "print(f\"The hexadecimal equivalent of {decimal} is {hexadecimal[2:]}\")\n"
   ]
  },
  {
   "cell_type": "markdown",
   "metadata": {},
   "source": [
    "## Hexadecimal to  Decimal"
   ]
  },
  {
   "cell_type": "code",
   "execution_count": 19,
   "metadata": {},
   "outputs": [
    {
     "name": "stdout",
     "output_type": "stream",
     "text": [
      "The decimal equivalent of 0x12c is 300\n"
     ]
    }
   ],
   "source": [
    "hexadecimal = '12c'\n",
    "decimal = int(hexadecimal, 16)\n",
    "print(f\"The decimal equivalent of 0x{hexadecimal} is {decimal}\")\n"
   ]
  },
  {
   "cell_type": "markdown",
   "metadata": {},
   "source": [
    "#\tWrite a program to compute the:\n",
    "\n",
    "Mean\n",
    "\n",
    "Mode\n",
    "\n",
    "Median\n",
    "\n",
    "Standard Deviation\n"
   ]
  },
  {
   "cell_type": "code",
   "execution_count": 20,
   "metadata": {},
   "outputs": [
    {
     "name": "stdout",
     "output_type": "stream",
     "text": [
      "Mean: 4.7\n",
      "Mode: 2\n",
      "Median: 4.5\n",
      "Standard Deviation: 2.7507574714370344\n"
     ]
    }
   ],
   "source": [
    "import statistics\n",
    "\n",
    "data = [5, 2, 7, 1, 2, 8, 9, 3, 4, 6]\n",
    "\n",
    "# a. Mean\n",
    "mean = statistics.mean(data)\n",
    "print(f\"Mean: {mean}\")\n",
    "\n",
    "# b. Mode\n",
    "mode = statistics.mode(data)\n",
    "print(f\"Mode: {mode}\")\n",
    "\n",
    "# c. Median\n",
    "median = statistics.median(data)\n",
    "print(f\"Median: {median}\")\n",
    "\n",
    "# d. Standard Deviation\n",
    "stdev = statistics.stdev(data)\n",
    "print(f\"Standard Deviation: {stdev}\")\n"
   ]
  },
  {
   "cell_type": "code",
   "execution_count": null,
   "metadata": {},
   "outputs": [],
   "source": []
  }
 ],
 "metadata": {
  "kernelspec": {
   "display_name": "Python 3",
   "language": "python",
   "name": "python3"
  },
  "language_info": {
   "codemirror_mode": {
    "name": "ipython",
    "version": 3
   },
   "file_extension": ".py",
   "mimetype": "text/x-python",
   "name": "python",
   "nbconvert_exporter": "python",
   "pygments_lexer": "ipython3",
   "version": "3.9.0"
  }
 },
 "nbformat": 4,
 "nbformat_minor": 2
}
